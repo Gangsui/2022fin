{
 "cells": [
  {
   "cell_type": "code",
   "execution_count": 2,
   "metadata": {},
   "outputs": [],
   "source": [
    "from Crawling_site import Search_shoes\n",
    "import telegram\n",
    "\n",
    "\n",
    "telegram_config={}\n",
    "#config 파일 읽기\n",
    "with open('./telegram_config','r') as f:\n",
    "    # 모든 줄 읽어오기\n",
    "    configs=f.readlines()\n",
    "    # 한줄씩 확인해서\n",
    "    for config in configs:\n",
    "        #줄바꿈기호 제거(\\n) 후 =로 문자열 분리\n",
    "        #key ,value 로 언패킹 (2개 나올것이 확실 하기 때문에)\n",
    "        key,value=config.rstrip().split('=')\n",
    "        # config 딕셔너리에 키 값 추가\n",
    "        telegram_config[key]=value\n",
    "        \n",
    "token=telegram_config['token']\n",
    "chat_ID=telegram_config['chat_ID']\n",
    "Group_ID=telegram_config['Group_ID']\n",
    "\n",
    "bot = telegram.Bot(token)\n",
    "updates = bot.get_updates()\n",
    "last_id = updates[-1].update_id\n",
    "\n",
    "\n",
    "\n",
    "while True: \n",
    "    try:\n",
    "        # 신규 메시지가 없을 경우 에러가 발생 \n",
    "        # list index out of range\n",
    "        # 따라서, try - except 문으로 묶어줌\n",
    "        new_message = bot.get_updates(offset=last_id)[-1]\n",
    "\n",
    "        # 만약 신규 메시지가 오늘날씨면,\n",
    "        if new_message.message.text == '오늘의 신발':\n",
    "            Send_me=Search_shoes()\n",
    "            \n",
    "            for Final_send in Send_me:\n",
    "                Final_send=\"\".join(Final_send)\n",
    "                bot.send_message(Group_ID,Final_send)\n",
    "        \n",
    "            bot.send_message(chat_ID,'조회 완료')\n",
    "        last_id = new_message.update_id + 1\n",
    "    except:\n",
    "        pass"
   ]
  }
 ],
 "metadata": {
  "kernelspec": {
   "display_name": "Python 3.10.4 ('study')",
   "language": "python",
   "name": "python3"
  },
  "language_info": {
   "codemirror_mode": {
    "name": "ipython",
    "version": 3
   },
   "file_extension": ".py",
   "mimetype": "text/x-python",
   "name": "python",
   "nbconvert_exporter": "python",
   "pygments_lexer": "ipython3",
   "version": "3.10.4"
  },
  "orig_nbformat": 4,
  "vscode": {
   "interpreter": {
    "hash": "bc0779936248397802a41bb810bfbf59e8a6098d988861b5ce203a4f15ef522d"
   }
  }
 },
 "nbformat": 4,
 "nbformat_minor": 2
}
