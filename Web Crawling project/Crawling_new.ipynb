{
 "cells": [
  {
   "cell_type": "code",
   "execution_count": 1,
   "metadata": {},
   "outputs": [],
   "source": [
    "#cmd_handler_bot.py\n",
    "from telegram.ext import Updater\n",
    "from telegram.ext import CommandHandler\n",
    "from Crawling_site import Search_shoes\n",
    "import telegram\n",
    "\n",
    "\n",
    "telegram_config={}\n",
    "#config 파일 읽기\n",
    "with open('./telegram_config','r') as f:\n",
    "    # 모든 줄 읽어오기\n",
    "    configs=f.readlines()\n",
    "    # 한줄씩 확인해서\n",
    "    for config in configs:\n",
    "        #줄바꿈기호 제거(\\n) 후 =로 문자열 분리\n",
    "        #key ,value 로 언패킹 (2개 나올것이 확실 하기 때문에)\n",
    "        key,value=config.rstrip().split('=')\n",
    "        # config 딕셔너리에 키 값 추가\n",
    "        telegram_config[key]=value\n",
    "        \n",
    "token=telegram_config['token']\n",
    "chat_ID=telegram_config['chat_ID']\n",
    "Group_ID=telegram_config['Group_ID']\n",
    "bot = telegram.Bot(token)\n",
    "updates = bot.get_updates()\n",
    "\n",
    " \n",
    "updater = Updater( token=token, use_context=True )\n",
    "dispatcher = updater.dispatcher\n",
    " \n",
    "def start(update, context):\n",
    "    context.bot.send_message(chat_id=update.effective_chat.id, text=\"신발을 찾습니다.\")\n",
    " \n",
    "def stop(update, context):\n",
    "    context.bot.send_message(chat_id=update.effective_chat.id, text=\"작업을 중단합니다.\")\n",
    " \n",
    "def Shoes(update, context):\n",
    "    context.bot.send_message(chat_id=update.effective_chat.id, text=\"신발을 검색합니다\" )\n",
    "    Send_me=Search_shoes()\n",
    "            \n",
    "    for Final_send in Send_me:\n",
    "        Final_send=\"\".join( )\n",
    "        bot.send_message(Group_ID,Final_send)\n",
    "\n",
    "    bot.send_message(Group_ID,'조회 완료')\n",
    " \n",
    "start_handler = CommandHandler('start', start)\n",
    "stop_handler = CommandHandler('stop', stop)\n",
    "zigbang_handler = CommandHandler('Shoes', Shoes)\n",
    " \n",
    "dispatcher.add_handler(start_handler)\n",
    "dispatcher.add_handler(stop_handler)\n",
    "dispatcher.add_handler(zigbang_handler)\n",
    " \n",
    "updater.start_polling()\n",
    "updater.idle()"
   ]
  },
  {
   "cell_type": "code",
   "execution_count": null,
   "metadata": {},
   "outputs": [],
   "source": []
  }
 ],
 "metadata": {
  "kernelspec": {
   "display_name": "Python 3.10.4 ('study')",
   "language": "python",
   "name": "python3"
  },
  "language_info": {
   "codemirror_mode": {
    "name": "ipython",
    "version": 3
   },
   "file_extension": ".py",
   "mimetype": "text/x-python",
   "name": "python",
   "nbconvert_exporter": "python",
   "pygments_lexer": "ipython3",
   "version": "3.10.4"
  },
  "orig_nbformat": 4,
  "vscode": {
   "interpreter": {
    "hash": "bc0779936248397802a41bb810bfbf59e8a6098d988861b5ce203a4f15ef522d"
   }
  }
 },
 "nbformat": 4,
 "nbformat_minor": 2
}
