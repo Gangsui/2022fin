{
 "cells": [
  {
   "cell_type": "code",
   "execution_count": 9,
   "metadata": {},
   "outputs": [
    {
     "name": "stderr",
     "output_type": "stream",
     "text": [
      "C:\\Users\\LG\\AppData\\Local\\Temp\\ipykernel_16344\\605478893.py:12: DeprecationWarning: executable_path has been deprecated, please pass in a Service object\n",
      "  driver=webdriver.Chrome(chrome_path)\n"
     ]
    },
    {
     "ename": "ValueError",
     "evalue": "invalid literal for int() with base 10: ''",
     "output_type": "error",
     "traceback": [
      "\u001b[1;31m---------------------------------------------------------------------------\u001b[0m",
      "\u001b[1;31mValueError\u001b[0m                                Traceback (most recent call last)",
      "\u001b[1;32mc:\\Users\\LG\\Git\\Web Crawling project\\test.ipynb 셀 1\u001b[0m in \u001b[0;36m<cell line: 16>\u001b[1;34m()\u001b[0m\n\u001b[0;32m     <a href='vscode-notebook-cell:/c%3A/Users/LG/Git/Web%20Crawling%20project/test.ipynb#W0sZmlsZQ%3D%3D?line=23'>24</a>\u001b[0m filter_re\u001b[39m=\u001b[39mre\u001b[39m.\u001b[39mfindall(\u001b[39m'\u001b[39m\u001b[39m[0-9]*\u001b[39m\u001b[39m'\u001b[39m,result)\n\u001b[0;32m     <a href='vscode-notebook-cell:/c%3A/Users/LG/Git/Web%20Crawling%20project/test.ipynb#W0sZmlsZQ%3D%3D?line=24'>25</a>\u001b[0m Final_re\u001b[39m=\u001b[39m\u001b[39m\"\u001b[39m\u001b[39m\"\u001b[39m\u001b[39m.\u001b[39mjoin(filter_re)\n\u001b[1;32m---> <a href='vscode-notebook-cell:/c%3A/Users/LG/Git/Web%20Crawling%20project/test.ipynb#W0sZmlsZQ%3D%3D?line=26'>27</a>\u001b[0m Final_re\u001b[39m=\u001b[39m\u001b[39mint\u001b[39;49m(Final_re)\n\u001b[0;32m     <a href='vscode-notebook-cell:/c%3A/Users/LG/Git/Web%20Crawling%20project/test.ipynb#W0sZmlsZQ%3D%3D?line=27'>28</a>\u001b[0m Compare_pirce\u001b[39m=\u001b[39mFinal_re\u001b[39m-\u001b[39minformation[\u001b[39m2\u001b[39m]\n\u001b[0;32m     <a href='vscode-notebook-cell:/c%3A/Users/LG/Git/Web%20Crawling%20project/test.ipynb#W0sZmlsZQ%3D%3D?line=28'>29</a>\u001b[0m \u001b[39m# 50000만원 이상만 걸러내기\u001b[39;00m\n",
      "\u001b[1;31mValueError\u001b[0m: invalid literal for int() with base 10: ''"
     ]
    }
   ],
   "source": [
    "from selenium import webdriver\n",
    "from selenium.webdriver.common.by import By\n",
    "from selenium.webdriver.common.keys import Keys\n",
    "import time\n",
    "import re\n",
    "\n",
    "information=['a','DX2953-800',190000,'사이트']\n",
    "URL='https://kream.co.kr/search?keyword='\n",
    "# 리셀 가격 5만원 이상인거 넣어둘 리스트\n",
    "Send_me=[]\n",
    "chrome_path='chromedriver.exe'\n",
    "driver=webdriver.Chrome(chrome_path)\n",
    "\n",
    "\n",
    "#가격 하고 신발 코드 없는거 걸러내기\n",
    "if information[1]=='-' or information[2]=='':\n",
    "    pass\n",
    "else:\n",
    "    # 찾고 싶은 신발 리셀 가격 찾기\n",
    "    Base_URL=f'{information[1]}'\n",
    "    driver.get(URL+Base_URL)\n",
    "    result=driver.find_element(By.CLASS_NAME,'amount').text\n",
    "    # 신발 가격만 나오도록 필터 \n",
    "    filter_re=re.findall('[0-9]*',result)\n",
    "    Final_re=\"\".join(filter_re)\n",
    "\n",
    "    Final_re=int(Final_re)\n",
    "    Compare_pirce=Final_re-information[2]\n",
    "    # 50000만원 이상만 걸러내기\n",
    "    if Compare_pirce> 50000:\n",
    "\n",
    "        shoe=[information[0],str(f'{Compare_pirce:,}'),information[3]]\n",
    "        # send_me에 담아두기\n",
    "        Send_me.append(shoe)\n",
    "\n",
    "print(Send_me)"
   ]
  }
 ],
 "metadata": {
  "kernelspec": {
   "display_name": "Python 3.10.4 ('study')",
   "language": "python",
   "name": "python3"
  },
  "language_info": {
   "name": "python",
   "version": "3.10.4"
  },
  "orig_nbformat": 4,
  "vscode": {
   "interpreter": {
    "hash": "bc0779936248397802a41bb810bfbf59e8a6098d988861b5ce203a4f15ef522d"
   }
  }
 },
 "nbformat": 4,
 "nbformat_minor": 2
}
